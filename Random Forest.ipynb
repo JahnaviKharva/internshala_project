{
 "cells": [
  {
   "cell_type": "code",
   "execution_count": 3,
   "metadata": {},
   "outputs": [],
   "source": [
    "# load the libraries\n",
    "import sklearn\n",
    "from sklearn.metrics import mean_squared_error as MSE\n",
    "from sklearn.preprocessing import LabelEncoder\n",
    "from sklearn.model_selection import train_test_split\n",
    "from sklearn.ensemble import RandomForestRegressor\n",
    "from sklearn.datasets import load_boston\n",
    "\n"
   ]
  },
  {
   "cell_type": "code",
   "execution_count": 4,
   "metadata": {},
   "outputs": [
    {
     "name": "stdout",
     "output_type": "stream",
     "text": [
      "(354, 13) (354,)\n"
     ]
    }
   ],
   "source": [
    "import pandas as pd\n",
    "import numpy as np\n",
    "# load the data from load_boston function\n",
    "data = load_boston()\n",
    "# store the list of features in the dataset using feature_names\n",
    "array = data.feature_names\n",
    "array = np.append(array,['House price of unit area'])\n",
    "# separate the data and target values in the dataset\n",
    "data, target = data.data, data.target\n",
    "# split the data into training and test set to avoid overfitting\n",
    "Xtrain, Xtest, Ytrain, Ytest = train_test_split(data,target,test_size=0.3)\n",
    "\n",
    "print(Xtrain.shape,Ytrain.shape)\n"
   ]
  },
  {
   "cell_type": "code",
   "execution_count": 6,
   "metadata": {},
   "outputs": [],
   "source": [
    "TARGET_PRICE = 'House price of unit area'\n",
    "\n",
    "# instantiate the LabelEncoder\n",
    "le = LabelEncoder()\n",
    "# the data is stored in a csv file for your reference\n",
    "df = pd.read_csv('C:\\\\Users\\\\jahna\\\\OneDrive\\\\Desktop\\\\datasets\\\\DS - Assignment Part 1 data set.csv')"
   ]
  },
  {
   "cell_type": "code",
   "execution_count": 7,
   "metadata": {},
   "outputs": [],
   "source": [
    "y = df[TARGET_PRICE]\n",
    "# drop the target price column, as this is the training_data\n",
    "df = df.drop([TARGET_PRICE], axis=1)\n",
    "\n"
   ]
  },
  {
   "cell_type": "code",
   "execution_count": 8,
   "metadata": {},
   "outputs": [
    {
     "data": {
      "text/plain": [
       "RandomForestRegressor(criterion='mae', max_depth=6, n_estimators=10, n_jobs=-1,\n",
       "                      random_state=3)"
      ]
     },
     "execution_count": 8,
     "metadata": {},
     "output_type": "execute_result"
    }
   ],
   "source": [
    "x = df\n",
    "# instantiate the RandomForestRegressor with all the processors available\n",
    "dt = RandomForestRegressor(criterion='mae',n_jobs=-1, n_estimators=10,max_depth=6, min_samples_leaf=1, random_state=3)\n",
    "# fit the random forest to training data\n",
    "dt.fit(Xtrain,Ytrain)"
   ]
  },
  {
   "cell_type": "code",
   "execution_count": 9,
   "metadata": {},
   "outputs": [],
   "source": [
    "# predict the output for test data\n",
    "y_predicted = dt.predict(Xtest)\n",
    "# find the accuracy of predcition using training data\n",
    "accuracy = dt.score(Xtest,Ytest)\n",
    "# compute the Mean Square error using MSE function from sklearn.metrics module.\n",
    "MSE_score = MSE(Ytest,y_predicted)\n"
   ]
  },
  {
   "cell_type": "code",
   "execution_count": 10,
   "metadata": {},
   "outputs": [
    {
     "name": "stdout",
     "output_type": "stream",
     "text": [
      "Training Accuracy: 0.9373928754397418\n",
      "Testing Accuracy: 0.8278529766380136\n",
      "Mean Squared Error 13.649243914473683\n"
     ]
    }
   ],
   "source": [
    "# print the final results\n",
    "print(\"Training Accuracy:\",dt.score(Xtrain,Ytrain))\n",
    "print(\"Testing Accuracy:\",accuracy)\n",
    "print(\"Mean Squared Error\",MSE_score.mean())"
   ]
  },
  {
   "cell_type": "code",
   "execution_count": null,
   "metadata": {},
   "outputs": [],
   "source": []
  }
 ],
 "metadata": {
  "kernelspec": {
   "display_name": "Python 3",
   "language": "python",
   "name": "python3"
  },
  "language_info": {
   "codemirror_mode": {
    "name": "ipython",
    "version": 3
   },
   "file_extension": ".py",
   "mimetype": "text/x-python",
   "name": "python",
   "nbconvert_exporter": "python",
   "pygments_lexer": "ipython3",
   "version": "3.8.5"
  }
 },
 "nbformat": 4,
 "nbformat_minor": 4
}
